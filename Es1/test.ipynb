{
 "cells": [
  {
   "cell_type": "code",
   "execution_count": 2,
   "metadata": {},
   "outputs": [],
   "source": [
    "import streamlit as st"
   ]
  },
  {
   "cell_type": "code",
   "execution_count": 3,
   "metadata": {},
   "outputs": [
    {
     "name": "stderr",
     "output_type": "stream",
     "text": [
      "2023-03-29 21:26:43.052 \n",
      "  \u001b[33m\u001b[1mWarning:\u001b[0m to view this Streamlit app on a browser, run it with the following\n",
      "  command:\n",
      "\n",
      "    streamlit run C:\\Users\\39348\\AppData\\Local\\Packages\\PythonSoftwareFoundation.Python.3.10_qbz5n2kfra8p0\\LocalCache\\local-packages\\Python310\\site-packages\\ipykernel_launcher.py [ARGUMENTS]\n"
     ]
    }
   ],
   "source": [
    "\n",
    "\n",
    "\n",
    "st.title(\"Primo esercizio\")\n",
    "st.header(\"Idoneità alla guida\")\n",
    "\n",
    "x=st.number_input(label=\"Inserisci la tua età\", max_value=100, min_value=0, step=1 )\n",
    "\n",
    "y = st.radio(label=\"Hai la patente?\", options=(\"Si\",\"No\"))\n",
    "\n",
    "def idoneità(x,y):\n",
    "        if x >= 18 and y == \"Si\":\n",
    "            return True\n",
    "        else:\n",
    "            return False\n",
    "\n",
    "if idoneità == True:\n",
    "     st.write(\"abilitato\")\n",
    "else:\n",
    "     st.write(\"non abilitato\")\n",
    "   \n",
    "\n",
    "\n",
    "\n",
    "\n",
    "\n",
    "\n",
    "\n",
    "\n"
   ]
  }
 ],
 "metadata": {
  "kernelspec": {
   "display_name": "Python 3",
   "language": "python",
   "name": "python3"
  },
  "language_info": {
   "codemirror_mode": {
    "name": "ipython",
    "version": 3
   },
   "file_extension": ".py",
   "mimetype": "text/x-python",
   "name": "python",
   "nbconvert_exporter": "python",
   "pygments_lexer": "ipython3",
   "version": "3.10.10"
  },
  "orig_nbformat": 4
 },
 "nbformat": 4,
 "nbformat_minor": 2
}
