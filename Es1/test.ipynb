{
 "cells": [
  {
   "cell_type": "code",
   "execution_count": 11,
   "metadata": {},
   "outputs": [],
   "source": [
    "import streamlit as st"
   ]
  },
  {
   "cell_type": "code",
   "execution_count": 21,
   "metadata": {},
   "outputs": [],
   "source": [
    "\n",
    "def main():\n",
    "    st.title(\"Primo esercizio\")\n",
    "    st.header(\"Idoneità alla guida\")\n",
    "\n",
    "    age=st.number_input(label=\"Inserisci la tua età\", max_value=100, min_value=0 )\n",
    "\n",
    "    patente = st.radio(label=\"Hai la patente?\", options=(\"Si\",\"No\"))\n",
    "    \n",
    "\n",
    "\n",
    "    def patente(age,patente):\n",
    "        if age  >= 18 and patente == \"Si\":\n",
    "            st.write(\"Sei idoneo alla guida\")\n",
    "        else:\n",
    "            st.write(\"Non sei idoneo alla guida\")\n",
    "\n",
    "\n",
    "\n",
    "\n",
    "\n",
    "if __name__ == \"__main__\":\n",
    "    main()\n",
    "    "
   ]
  }
 ],
 "metadata": {
  "kernelspec": {
   "display_name": "Python 3",
   "language": "python",
   "name": "python3"
  },
  "language_info": {
   "codemirror_mode": {
    "name": "ipython",
    "version": 3
   },
   "file_extension": ".py",
   "mimetype": "text/x-python",
   "name": "python",
   "nbconvert_exporter": "python",
   "pygments_lexer": "ipython3",
   "version": "3.10.10"
  },
  "orig_nbformat": 4
 },
 "nbformat": 4,
 "nbformat_minor": 2
}
