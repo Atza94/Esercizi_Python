{
 "cells": [
  {
   "attachments": {},
   "cell_type": "markdown",
   "metadata": {},
   "source": [
    "# esercizio_due\n",
    "Inserendo tre numeri determinare il maggiore dei tre ed il minore\n",
    "inserimento con input slider ver0.1\n",
    "inserimento con text input ver0.2"
   ]
  },
  {
   "cell_type": "code",
   "execution_count": 3,
   "metadata": {},
   "outputs": [],
   "source": [
    "import streamlit as st\n",
    "import numpy as np"
   ]
  },
  {
   "cell_type": "code",
   "execution_count": 6,
   "metadata": {},
   "outputs": [],
   "source": [
    "def main():\n",
    "    st.header(\"Secondo esercizio\")\n",
    "    st.subheader(\"sorter automatico\")\n",
    "\n",
    "    num01= st.slider('selezione il primo numero', float(0, 100))\n",
    "    #\n",
    "    \n",
    "\n",
    "    if __name__==__main__:\n",
    "        main()"
   ]
  }
 ],
 "metadata": {
  "kernelspec": {
   "display_name": "Python 3",
   "language": "python",
   "name": "python3"
  },
  "language_info": {
   "codemirror_mode": {
    "name": "ipython",
    "version": 3
   },
   "file_extension": ".py",
   "mimetype": "text/x-python",
   "name": "python",
   "nbconvert_exporter": "python",
   "pygments_lexer": "ipython3",
   "version": "3.10.10"
  },
  "orig_nbformat": 4
 },
 "nbformat": 4,
 "nbformat_minor": 2
}
